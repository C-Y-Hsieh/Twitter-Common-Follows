{
 "cells": [
  {
   "cell_type": "code",
   "execution_count": 1,
   "metadata": {},
   "outputs": [],
   "source": [
    "import requests\n",
    "import os\n",
    "import json\n",
    "import TwitterSecrets\n",
    "\n",
    "\n",
    "bearer_token = TwitterSecrets.Bearer_Token"
   ]
  },
  {
   "cell_type": "code",
   "execution_count": 2,
   "metadata": {},
   "outputs": [],
   "source": [
    "USER_ID = '1009984504247676928'\n",
    "\n",
    "search_url = \"https://api.twitter.com/2/tweets/search/recent\"\n",
    "follower_url = f\"https://api.twitter.com/2/users/{USER_ID}/followers\"\n",
    "following_url = f\"https://api.twitter.com/2/users/{USER_ID}/following\"\n",
    "user_url = \"https://api.twitter.com/2/users\"\n",
    "\n",
    "# Optional params: start_time,end_time,since_id,until_id,max_results,next_token,\n",
    "# expansions,tweet.fields,media.fields,poll.fields,place.fields,user.fields\n",
    "query_params = {'query': '#MarchMadness'}"
   ]
  },
  {
   "cell_type": "code",
   "execution_count": 3,
   "metadata": {},
   "outputs": [],
   "source": [
    "def bearer_oauth(r):\n",
    "    \"\"\"\n",
    "    Method required by bearer token authentication.\n",
    "    \"\"\"\n",
    "\n",
    "    r.headers[\"Authorization\"] = f\"Bearer {bearer_token}\"\n",
    "    r.headers[\"User-Agent\"] = \"v2RecentSearchPython\"\n",
    "    return r\n",
    "\n",
    "def connect_to_endpoint(url, params):\n",
    "    response = requests.get(url, auth=bearer_oauth, params=params)\n",
    "    print(response.status_code)\n",
    "    if response.status_code != 200:\n",
    "        raise Exception(response.status_code, response.text)\n",
    "    return response.json()"
   ]
  },
  {
   "cell_type": "code",
   "execution_count": 4,
   "metadata": {},
   "outputs": [],
   "source": [
    "CACHE_FILENAME = \"cache.json\"\n",
    "\n",
    "def open_cache():\n",
    "    ''' opens the cache file if it exists and loads the JSON into\n",
    "    the CACHE dictionary.\n",
    "\n",
    "    if the cache file doesn't exist, creates a new cache dictionary\n",
    "\n",
    "    Parameters\n",
    "    ----------\n",
    "    None\n",
    "\n",
    "    Returns\n",
    "    -------\n",
    "    The opened cache\n",
    "    '''\n",
    "    try:\n",
    "        cache_file = open(CACHE_FILENAME, 'r')\n",
    "        cache_contents = cache_file.read()\n",
    "        cache_dict = json.loads(cache_contents)\n",
    "        cache_file.close()\n",
    "    except:\n",
    "        cache_dict = {}\n",
    "    return cache_dict\n",
    "\n",
    "def save_cache(cache_dict):\n",
    "    ''' saves the current state of the cache to disk\n",
    "    Parameters\n",
    "    ----------\n",
    "    cache_dict: dict\n",
    "        The dictionary to save\n",
    "    Returns\n",
    "    -------\n",
    "    None\n",
    "    '''\n",
    "    dumped_json_cache = json.dumps(cache_dict)\n",
    "    fw = open(CACHE_FILENAME,\"w\")\n",
    "    fw.write(dumped_json_cache)\n",
    "    fw.close() \n",
    "\n",
    "def construct_unique_key(baseurl, params):\n",
    "    param_strings = []\n",
    "    connector = '_'\n",
    "    for k in params.keys():\n",
    "        param_strings.append(f'{k}_{params[k]}')\n",
    "    unique_key = baseurl + connector + connector.join(param_strings)\n",
    "    return unique_key\n",
    "\n",
    "def twitter_with_cache(baseurl, params):\n",
    "    unique_key = construct_unique_key(baseurl, params)\n",
    "    if unique_key in CACHE:\n",
    "        return CACHE[unique_key]\n",
    "    else:\n",
    "        CACHE[unique_key] = connect_to_endpoint(baseurl, params) \n",
    "        save_cache(CACHE)\n",
    "        return CACHE[unique_key]\n",
    "\n",
    "CACHE = open_cache()"
   ]
  },
  {
   "cell_type": "code",
   "execution_count": 5,
   "metadata": {},
   "outputs": [],
   "source": [
    "class User:\n",
    "    def __init__(self, id, name, username):\n",
    "        self.id = id\n",
    "        self.name = name\n",
    "        self.username = username\n",
    "        self.connectedTo = []\n",
    "        # self.followers = []\n",
    "        # self.following = []\n",
    "    \n",
    "    def addNeighbor(self, nbr):\n",
    "        '''\n",
    "        nbr (User): another vertex connected to this vertix\n",
    "        '''\n",
    "        self.connectedTo.append(nbr)\n",
    "    def getId(self):\n",
    "        return self.id\n",
    "    def getConnections(self):\n",
    "        return self.connectedTo\n",
    "    def getConnectionIds(self):\n",
    "        ids = [x.id for x in self.connectedTo]\n",
    "        return ids\n",
    "    def __str__(self):\n",
    "        return str(self.id) + ' is connected to ' + str([x.id for x in self.connectedTo])\n",
    "\n"
   ]
  },
  {
   "cell_type": "code",
   "execution_count": 6,
   "metadata": {},
   "outputs": [
    {
     "name": "stdout",
     "output_type": "stream",
     "text": [
      "[2, 3]\n",
      "[]\n"
     ]
    }
   ],
   "source": [
    "# Test\n",
    "\n",
    "V1 = User(1, 'aa', 'aa123')\n",
    "V2 = User(2, 'bb', 'bb234')\n",
    "V3 = User(3, 'cc', 'cc345')\n",
    "V1.addNeighbor(V2)\n",
    "V1.addNeighbor(V3)\n",
    "V1.__str__()\n",
    "\n",
    "print(V1.getConnectionIds())\n",
    "print(V2.getConnectionIds())"
   ]
  },
  {
   "cell_type": "code",
   "execution_count": 6,
   "metadata": {},
   "outputs": [],
   "source": [
    "class Graph:\n",
    "    def __init__(self):\n",
    "        self.vertList = {} \n",
    "        self.numVertices = 0\n",
    "\n",
    "    def addVertex(self, key, name, username): ## avoid repetitive?\n",
    "        self.numVertices = self.numVertices + 1\n",
    "        newVertex = User(key, name, username)\n",
    "        self.vertList[key] = newVertex\n",
    "        return newVertex\n",
    "\n",
    "    def getVertex(self,n):\n",
    "        if n in self.vertList:\n",
    "            return self.vertList[n]\n",
    "        else:\n",
    "            return None\n",
    "\n",
    "    def __contains__(self,n):\n",
    "        return n in self.vertList\n",
    "\n",
    "    def addEdge(self,Follower_key, Followed_key, follower_name='name', followed_name='name2', follower_username='username1', followed_username='username2'):\n",
    "        '''\n",
    "        follower -> followed\n",
    "        '''\n",
    "        if Follower_key not in self.vertList.keys():\n",
    "            self.addVertex(Follower_key, follower_name, follower_username)\n",
    "            # print(f\"create a new vertix: {V1_key}\")\n",
    "        if Followed_key not in self.vertList.keys():\n",
    "            self.addVertex(Followed_key, followed_name, followed_username)\n",
    "            # print(f\"create a new vertix: {V2_key}\")\n",
    "        if self.vertList[Followed_key] not in self.vertList[Follower_key].getConnections(): # if the edge doesn't exist\n",
    "            self.vertList[Follower_key].addNeighbor(self.vertList[Followed_key])\n",
    "\n",
    "    def getVertices(self):\n",
    "        return self.vertList.keys()\n",
    "\n",
    "    def adjList(self):\n",
    "        adjList = []\n",
    "        for v_key in self.vertList.keys():\n",
    "            adjList.append(self.vertList[v_key].getConnectionIds())\n",
    "        return adjList\n",
    "\n",
    "\n",
    "    def __iter__(self):\n",
    "        return iter(self.vertList.values())"
   ]
  },
  {
   "cell_type": "code",
   "execution_count": 8,
   "metadata": {},
   "outputs": [
    {
     "name": "stdout",
     "output_type": "stream",
     "text": [
      "dict_keys(['t1', 't2'])\n",
      "name\n",
      "['t2']\n",
      "name2\n",
      "[]\n"
     ]
    }
   ],
   "source": [
    "# Test\n",
    "network_test = Graph()\n",
    "network_test.addEdge('t1', 't2')\n",
    "print(network_test.getVertices())\n",
    "for key in network_test.vertList.keys():\n",
    "    print(network_test.vertList[key].name)\n",
    "    print(network_test.vertList[key].getConnectionIds())\n"
   ]
  },
  {
   "cell_type": "markdown",
   "metadata": {},
   "source": [
    "## Pseudo code\n",
    "1. User enter a user's username\n",
    "2. Find the user's id\n",
    "3. Use the id to get the follower list\n",
    "4. Connect the user to his/her followers (add edges in the network)\n",
    "5. Find the followings of the followers\n",
    "6. Connect the followers to their followings (add edges in the network)\n",
    "7. Find and show the top 3 users who have the most followers in the network\n",
    "- run through the connection list to count the user appear for the most times?\n"
   ]
  },
  {
   "cell_type": "code",
   "execution_count": 7,
   "metadata": {},
   "outputs": [
    {
     "name": "stdout",
     "output_type": "stream",
     "text": [
      "leca ['1009984504247676928', '1598053484259348485', '1428302512319197189', '1524991563696586752', '1395435978131525632']\n",
      "target []\n",
      "423 []\n",
      "gege []\n",
      "liz []\n",
      "WOOSUNG []\n",
      "Dwie ['1009984504247676928', '1382576846336790536', '1058234696008589312', '893085958119211011', '1120217350848958465', '1413307716517261313']\n",
      "JUST B []\n",
      "VANNER 배너 []\n",
      "온앤오프 (ONF) Official []\n",
      "TO1 []\n",
      "TEMPEST(템페스트) []\n",
      "cloudtmn ['1009984504247676928', '1585878485591298048', '1301764681430786048', '1230512150923243520', '1120359217553010688', '1116403957834768384']\n",
      "연울 []\n",
      "여백 []\n",
      "안녕하서호！ []\n",
      "🅼🅾🆉 []\n",
      "yuyutzu 御御子 []\n",
      "X_Hongggggg ['1009984504247676928', '1135806843773542401', '1024525554395963392', '1024629552306380800', '1248459032320327683']\n",
      "SuperM []\n",
      "더로즈_The Rose []\n",
      "Sana []\n",
      "BAND LUCY | 밴드 루시 []\n",
      "Candy Sugar Pop / Betsy ['1009984504247676928', '1084494155403968512', '861579438244241411', '1219213114895302656', '1031445660841603072']\n",
      "TXT Charts ❤️‍🩹 []\n",
      "A.C.E []\n",
      "WOODZ(조승연) []\n",
      "VERIVERY []\n"
     ]
    }
   ],
   "source": [
    "# Test\n",
    "small_network = Graph()\n",
    "Followed_key = USER_ID # user input username -> id\n",
    "followed_name = 'target'\n",
    "followed_username = 'targetuser123'\n",
    "\n",
    "followers = twitter_with_cache(follower_url, {'max_results': 5})\n",
    "for user in followers['data']:\n",
    "    small_network.addEdge(user['id'], Followed_key, user['name'], followed_name, user['username'], followed_username)\n",
    "    \n",
    "    follower_id = user['id']\n",
    "    following_url = f\"https://api.twitter.com/2/users/{follower_id}/following\"\n",
    "    following = twitter_with_cache(following_url, {'max_results': 5})\n",
    "    for f in following['data']:\n",
    "        small_network.addEdge(user['id'], f['id'], user['name'], f['name'], user['username'], f['username'])\n",
    "# print(small_network.getVertices())\n",
    "\n",
    "for key in small_network.vertList.keys():\n",
    "    print(small_network.vertList[key].name, small_network.vertList[key].getConnectionIds())\n",
    "    # print(small_network.vertList[key].name, small_network.vertList[key].username)\n"
   ]
  },
  {
   "cell_type": "code",
   "execution_count": 8,
   "metadata": {},
   "outputs": [
    {
     "name": "stdout",
     "output_type": "stream",
     "text": [
      "28\n",
      "most = ('1598053484259348485', 1)\n",
      "{'data': [{'id': '1598053484259348485', 'name': '423', 'username': 'do0claims'}]}\n",
      "top_dic = {'1009984504247676928': 5, '1598053484259348485': 1, '1428302512319197189': 1, '1524991563696586752': 1, '1395435978131525632': 1, '1382576846336790536': 1, '1058234696008589312': 1, '893085958119211011': 1, '1120217350848958465': 1, '1413307716517261313': 1, '1585878485591298048': 1, '1301764681430786048': 1, '1230512150923243520': 1, '1120359217553010688': 1, '1116403957834768384': 1, '1135806843773542401': 1, '1024525554395963392': 1, '1024629552306380800': 1, '1248459032320327683': 1, '1084494155403968512': 1, '861579438244241411': 1, '1219213114895302656': 1, '1031445660841603072': 1}\n"
     ]
    }
   ],
   "source": [
    "print(len(small_network.vertList))\n",
    "\n",
    "top_dic = {}\n",
    "most = ('', 0)\n",
    "for key in small_network.vertList.keys():\n",
    "    for id in small_network.vertList[key].getConnectionIds():\n",
    "        if id not in top_dic.keys():\n",
    "            top_dic[id] = 1\n",
    "        else:\n",
    "            top_dic[id] += 1\n",
    "        if id != USER_ID and top_dic[id] > most[1]: #exclude the target user\n",
    "            most = (id, top_dic[id])\n",
    "    # print(small_network.vertList[key].name, small_network.vertList[key].getConnectionIds())\n",
    "print(f\"most = {most}\")\n",
    "\n",
    "user = twitter_with_cache(user_url, {'ids': [most[0]]})\n",
    "print(user)\n",
    "print(f\"top_dic = {top_dic}\")"
   ]
  },
  {
   "cell_type": "code",
   "execution_count": null,
   "metadata": {},
   "outputs": [],
   "source": [
    "# if no follower\n"
   ]
  },
  {
   "cell_type": "code",
   "execution_count": 19,
   "metadata": {},
   "outputs": [
    {
     "name": "stdout",
     "output_type": "stream",
     "text": [
      "200\n",
      "200\n",
      "200\n",
      "200\n",
      "200\n",
      "200\n",
      "200\n",
      "200\n",
      "200\n",
      "200\n",
      "200\n",
      "200\n",
      "200\n"
     ]
    }
   ],
   "source": [
    "# Test\n",
    "test_30_network = Graph()\n",
    "Followed_key = USER_ID # user input username -> id\n",
    "followed_name = 'target'\n",
    "followed_username = 'targetuser123'\n",
    "\n",
    "followers = twitter_with_cache(follower_url, {'max_results': 14})\n",
    "for user in followers['data']:\n",
    "    test_30_network.addEdge(user['id'], Followed_key, user['name'], followed_name, user['username'], followed_username)\n",
    "    \n",
    "    follower_id = user['id']\n",
    "    following_url = f\"https://api.twitter.com/2/users/{follower_id}/following\"\n",
    "    following = twitter_with_cache(following_url, {'max_results': 100})\n",
    "    if 'errors' not in following.keys(): # some users might lock their account so I don't have permit to see their following\n",
    "        for f in following['data']:\n",
    "            test_30_network.addEdge(user['id'], f['id'], user['name'], f['name'], user['username'], f['username'])\n",
    "# print(small_network.getVertices())\n",
    "\n",
    "# for key in test_30_network.vertList.keys():\n",
    "#     print(test_30_network.vertList[key].name, test_30_network.vertList[key].getConnectionIds())\n",
    "    # print(small_network.vertList[key].name, small_network.vertList[key].username)\n"
   ]
  },
  {
   "cell_type": "code",
   "execution_count": 20,
   "metadata": {},
   "outputs": [
    {
     "name": "stdout",
     "output_type": "stream",
     "text": [
      "user_id: 1009984504247676928\n",
      "609\n",
      "most = [('1083198663424237569', 6), ('135447868', 6), ('884378714', 6), ('1009973358866284544', 6), ('1392302226782052355', 6)]\n",
      "200\n",
      "['TXT OFFICIAL', 'KCON official', 'SMTOWN', 'ONEUS', 'NMIXX']\n"
     ]
    }
   ],
   "source": [
    "print(f\"user_id: {USER_ID}\")\n",
    "print(len(test_30_network.vertList))\n",
    "\n",
    "top_dic = {}\n",
    "most = [('', 0)]\n",
    "for key in test_30_network.vertList.keys():\n",
    "    for id in test_30_network.vertList[key].getConnectionIds():\n",
    "        if id not in top_dic.keys():\n",
    "            top_dic[id] = 1\n",
    "        else:\n",
    "            top_dic[id] += 1\n",
    "        if id != USER_ID and top_dic[id] > most[0][1]: #exclude the target user\n",
    "            most = [(id, top_dic[id])]\n",
    "        elif id != USER_ID and top_dic[id] == most[0][1]:\n",
    "            most.append((id, top_dic[id]))\n",
    "\n",
    "    # print(small_network.vertList[key].name, small_network.vertList[key].getConnectionIds())\n",
    "print(f\"most = {most}\")\n",
    "\n",
    "user_string = \",\".join([u[0] for u in most])\n",
    "most_users = twitter_with_cache(user_url, {'ids': user_string})\n",
    "#user = twitter_with_cache(user_url, {'ids': [most[0]]})\n",
    "#print(f\"most_users = {most_users}\")\n",
    "\n",
    "most_username = [i['name'] for i in most_users['data']]\n",
    "print(most_username)\n",
    "\n",
    "#print(f\"\\n {top_dic}\")"
   ]
  },
  {
   "cell_type": "code",
   "execution_count": 11,
   "metadata": {},
   "outputs": [
    {
     "name": "stdout",
     "output_type": "stream",
     "text": [
      "\n",
      "followers:\n",
      "1541427847994437637: leca, (Lecari3_)\n",
      "1560377926037692417: Dwie, (Dwie42821521)\n",
      "1598496097206693889: cloudtmn, (cloudtmn)\n",
      "1597658439731318785: X_Hongggggg, (X_Hongggggg)\n",
      "1593392589528436737: Candy Sugar Pop / Betsy, (oncestaymoa)\n",
      "\n",
      "followings:\n",
      "TXT Charts ❤️‍🩹\n",
      "A.C.E\n",
      "원위 (ONEWE)\n",
      "WOODZ(조승연)\n",
      "VERIVERY\n"
     ]
    }
   ],
   "source": [
    "def main():\n",
    "    # json_response = connect_to_endpoint(search_url, query_params)\n",
    "    followers = twitter_with_cache(follower_url, {'max_results': 5})\n",
    "    print(\"\\nfollowers:\")\n",
    "    for user in followers['data']:\n",
    "        print(f\"{user['id']}: {user['name']}, ({user['username']})\")\n",
    "    \n",
    "    ## Next page\n",
    "    # next_token = json_response['meta']['next_token']\n",
    "    # print(f\"\\nnext page token: {next_token}\")\n",
    "    # json_response = connect_to_endpoint(follower_url, {'pagination_token' : next_token})\n",
    "    # for user in json_response['data']:\n",
    "    #     print(f\"{user['name']} ({user['id']})\")\n",
    "\n",
    "    following = twitter_with_cache(following_url, {'max_results': 5})\n",
    "    print(\"\\nfollowings:\")\n",
    "    for user in following['data']:\n",
    "        print(user['name'])\n",
    "\n",
    "    \n",
    "    # print(json.dumps(json_response, indent=4, sort_keys=True))\n",
    "\n",
    "if __name__ == \"__main__\":\n",
    "    main()"
   ]
  },
  {
   "cell_type": "code",
   "execution_count": 34,
   "metadata": {},
   "outputs": [
    {
     "name": "stdout",
     "output_type": "stream",
     "text": [
      "{'data': [{'id': '1584836035779129346', 'name': 'Tass Hhh', 'username': 'HhhTass'}], 'meta': {'result_count': 1, 'next_token': 'FNMPNVGB6T6HGZZZ'}}\n",
      "200\n",
      "{'errors': [{'resource_id': '1509153742133862401', 'parameter': 'id', 'resource_type': 'user', 'section': 'data', 'title': 'Authorization Error', 'value': '1509153742133862401', 'detail': 'Sorry, you are not authorized to see the user with id: [1509153742133862401].', 'type': 'https://api.twitter.com/2/problems/not-authorized-for-resource'}]}\n"
     ]
    }
   ],
   "source": [
    "followers = twitter_with_cache(follower_url, {'max_results': 1})\n",
    "print(followers)\n",
    "following = twitter_with_cache(following_url, {'max_results': 1})\n",
    "print(following)"
   ]
  }
 ],
 "metadata": {
  "kernelspec": {
   "display_name": "Python 3.9.6 64-bit",
   "language": "python",
   "name": "python3"
  },
  "language_info": {
   "codemirror_mode": {
    "name": "ipython",
    "version": 3
   },
   "file_extension": ".py",
   "mimetype": "text/x-python",
   "name": "python",
   "nbconvert_exporter": "python",
   "pygments_lexer": "ipython3",
   "version": "3.9.6"
  },
  "orig_nbformat": 4,
  "vscode": {
   "interpreter": {
    "hash": "31f2aee4e71d21fbe5cf8b01ff0e069b9275f58929596ceb00d14d90e3e16cd6"
   }
  }
 },
 "nbformat": 4,
 "nbformat_minor": 2
}
